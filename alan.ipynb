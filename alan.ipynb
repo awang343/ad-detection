{
 "cells": [
  {
   "cell_type": "code",
   "execution_count": 2,
   "metadata": {},
   "outputs": [
    {
     "name": "stderr",
     "output_type": "stream",
     "text": [
      "[h264 @ 0x63bb5a5209c0] mmco: unref short failure\n",
      "[h264 @ 0x63bb5a5209c0] mmco: unref short failure\n",
      "[h264 @ 0x63bb5a5209c0] mmco: unref short failure\n",
      "[h264 @ 0x63bb5a5209c0] mmco: unref short failure\n"
     ]
    },
    {
     "data": {
      "text/plain": [
       "['data/extracted_segments/shot_segment_000000.mp4',\n",
       " 'data/extracted_segments/shot_segment_000001.mp4',\n",
       " 'data/extracted_segments/shot_segment_000002.mp4',\n",
       " 'data/extracted_segments/shot_segment_000003.mp4',\n",
       " 'data/extracted_segments/shot_segment_000004.mp4',\n",
       " 'data/extracted_segments/shot_segment_000005.mp4',\n",
       " 'data/extracted_segments/shot_segment_000006.mp4',\n",
       " 'data/extracted_segments/shot_segment_000007.mp4',\n",
       " 'data/extracted_segments/shot_segment_000008.mp4',\n",
       " 'data/extracted_segments/shot_segment_000009.mp4',\n",
       " 'data/extracted_segments/shot_segment_000010.mp4',\n",
       " 'data/extracted_segments/shot_segment_000011.mp4',\n",
       " 'data/extracted_segments/shot_segment_000012.mp4',\n",
       " 'data/extracted_segments/shot_segment_000013.mp4',\n",
       " 'data/extracted_segments/shot_segment_000014.mp4',\n",
       " 'data/extracted_segments/shot_segment_000015.mp4',\n",
       " 'data/extracted_segments/shot_segment_000016.mp4',\n",
       " 'data/extracted_segments/shot_segment_000017.mp4',\n",
       " 'data/extracted_segments/shot_segment_000018.mp4',\n",
       " 'data/extracted_segments/shot_segment_000019.mp4',\n",
       " 'data/extracted_segments/shot_segment_000020.mp4',\n",
       " 'data/extracted_segments/shot_segment_000021.mp4']"
      ]
     },
     "execution_count": 2,
     "metadata": {},
     "output_type": "execute_result"
    }
   ],
   "source": [
    "from video_shot_detection import ShotSegmentation\n",
    "\n",
    "shotsegger = ShotSegmentation()\n",
    "shotsegger(\"data/temu.mp4\", \"data/extracted_segments\")\n"
   ]
  }
 ],
 "metadata": {
  "kernelspec": {
   "display_name": "Python 3",
   "language": "python",
   "name": "python3"
  },
  "language_info": {
   "codemirror_mode": {
    "name": "ipython",
    "version": 3
   },
   "file_extension": ".py",
   "mimetype": "text/x-python",
   "name": "python",
   "nbconvert_exporter": "python",
   "pygments_lexer": "ipython3",
   "version": "3.11.9"
  }
 },
 "nbformat": 4,
 "nbformat_minor": 2
}
